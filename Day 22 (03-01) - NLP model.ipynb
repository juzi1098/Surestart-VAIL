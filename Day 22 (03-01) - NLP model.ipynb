{
 "cells": [
  {
   "cell_type": "code",
   "execution_count": 7,
   "metadata": {},
   "outputs": [
    {
     "name": "stdout",
     "output_type": "stream",
     "text": [
      "2021-03-02 16:06:12,249 https://nlp.informatik.hu-berlin.de/resources/models/ner/en-ner-conll03-v0.4.pt not found in cache, downloading to C:\\Users\\JUZELL~1\\AppData\\Local\\Temp\\tmpc2p85tta\n"
     ]
    },
    {
     "name": "stderr",
     "output_type": "stream",
     "text": [
      "100%|████████████████████████████████████████████████████████████████| 432197603/432197603 [00:58<00:00, 7348270.26B/s]"
     ]
    },
    {
     "name": "stdout",
     "output_type": "stream",
     "text": [
      "2021-03-02 16:07:11,693 copying C:\\Users\\JUZELL~1\\AppData\\Local\\Temp\\tmpc2p85tta to cache at C:\\Users\\Juzel Lloyd\\.flair\\models\\en-ner-conll03-v0.4.pt\n"
     ]
    },
    {
     "name": "stderr",
     "output_type": "stream",
     "text": [
      "\n"
     ]
    },
    {
     "name": "stdout",
     "output_type": "stream",
     "text": [
      "2021-03-02 16:07:12,392 removing temp file C:\\Users\\JUZELL~1\\AppData\\Local\\Temp\\tmpc2p85tta\n",
      "2021-03-02 16:07:12,510 loading file C:\\Users\\Juzel Lloyd\\.flair\\models\\en-ner-conll03-v0.4.pt\n",
      "Sentence: \"I like Snapchat but I prefer Instagram .\"   [− Tokens: 8  − Token-Labels: \"I like Snapchat <S-PER> but I prefer Instagram <S-PER> .\"]\n",
      "The following NER tags are found:\n",
      "Span [3]: \"Snapchat\"   [− Labels: PER (0.7478)]\n",
      "Span [7]: \"Instagram\"   [− Labels: PER (0.8054)]\n"
     ]
    }
   ],
   "source": [
    "from flair.data import Sentence\n",
    "from flair.models import SequenceTagger\n",
    "\n",
    "# make a sentence\n",
    "sentence = Sentence('I like Snapchat but I prefer Instagram.')\n",
    "\n",
    "# load the NER tagger\n",
    "tagger = SequenceTagger.load('ner')\n",
    "\n",
    "# run NER over sentence\n",
    "tagger.predict(sentence)\n",
    "\n",
    "print(sentence)\n",
    "print('The following NER tags are found:')\n",
    "\n",
    "# iterate over entities and print\n",
    "for entity in sentence.get_spans('ner'):\n",
    "    print(entity)"
   ]
  }
 ],
 "metadata": {
  "kernelspec": {
   "display_name": "Python 3",
   "language": "python",
   "name": "python3"
  },
  "language_info": {
   "codemirror_mode": {
    "name": "ipython",
    "version": 3
   },
   "file_extension": ".py",
   "mimetype": "text/x-python",
   "name": "python",
   "nbconvert_exporter": "python",
   "pygments_lexer": "ipython3",
   "version": "3.8.5"
  }
 },
 "nbformat": 4,
 "nbformat_minor": 4
}
