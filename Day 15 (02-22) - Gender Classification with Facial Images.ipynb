{
 "cells": [
  {
   "cell_type": "code",
   "execution_count": 2,
   "metadata": {},
   "outputs": [],
   "source": [
    "import os # accessing directory structure\n",
    "import numpy as np # linear algebra\n",
    "import pandas as pd # data processing, CSV file I/O (e.g. pd.read_csv)\n",
    "import seaborn as sns\n",
    "import matplotlib.pyplot as plt # plotting\n",
    "%matplotlib inline\n",
    "\n",
    "from sklearn.model_selection import KFold\n",
    "from sklearn.model_selection import train_test_split\n",
    "from sklearn.metrics import confusion_matrix\n",
    "from sklearn.metrics import classification_report\n",
    "from  IPython.display import display\n",
    "import plotly.express as px\n",
    "\n",
    "from tensorflow.keras.models import Sequential\n",
    "from tensorflow.keras.layers import Dense, Flatten, Conv2D, MaxPooling2D, Dropout, experimental, MaxPool2D, BatchNormalization\n",
    "from tensorflow.keras.losses import sparse_categorical_crossentropy, binary_crossentropy\n",
    "from tensorflow.keras.optimizers import Adam\n",
    "from tensorflow.keras.callbacks import ReduceLROnPlateau \n",
    "from tensorflow.data import Dataset\n",
    "from tensorflow.keras import Input, Model\n",
    "from tensorflow.keras.callbacks import ModelCheckpoint\n",
    "from tensorflow.keras.preprocessing.image import ImageDataGenerator\n",
    "from tensorflow.keras.callbacks import EarlyStopping\n",
    "from tensorflow.random import set_seed\n",
    "from tensorflow.keras.utils import to_categorical\n",
    "from tensorflow import test\n",
    "import random\n",
    "\n",
    "# Set Seed\n",
    "np.random.seed(11)\n",
    "set_seed(11)\n",
    "random.seed(11)"
   ]
  },
  {
   "cell_type": "code",
   "execution_count": 6,
   "metadata": {},
   "outputs": [
    {
     "name": "stdout",
     "output_type": "stream",
     "text": [
      "<class 'pandas.core.frame.DataFrame'>\n",
      "RangeIndex: 23705 entries, 0 to 23704\n",
      "Data columns (total 5 columns):\n",
      " #   Column     Non-Null Count  Dtype \n",
      "---  ------     --------------  ----- \n",
      " 0   age        23705 non-null  int64 \n",
      " 1   ethnicity  23705 non-null  int64 \n",
      " 2   gender     23705 non-null  int64 \n",
      " 3   img_name   23705 non-null  object\n",
      " 4   pixels     23705 non-null  object\n",
      "dtypes: int64(3), object(2)\n",
      "memory usage: 926.1+ KB\n"
     ]
    }
   ],
   "source": [
    "for dirname, _, filenames in os.walk('/kaggle/input'):\n",
    "    for filename in filenames:\n",
    "        print(os.path.join(r\"C:\\Users\\Juzel Lloyd\\OneDrive\\Surestart VAIL\\Day 15 (02-22) - Ethics-Driven ML\", \"age_gender.csv\"))\n",
    "        \n",
    "age_gender_data = pd.read_csv(r\"C:\\Users\\Juzel Lloyd\\OneDrive\\Surestart VAIL\\Day 15 (02-22) - Ethics-Driven ML/age_gender.csv/age_gender.csv\")\n",
    "age_gender_data.info()"
   ]
  },
  {
   "cell_type": "code",
   "execution_count": 7,
   "metadata": {},
   "outputs": [
    {
     "data": {
      "text/html": [
       "<div>\n",
       "<style scoped>\n",
       "    .dataframe tbody tr th:only-of-type {\n",
       "        vertical-align: middle;\n",
       "    }\n",
       "\n",
       "    .dataframe tbody tr th {\n",
       "        vertical-align: top;\n",
       "    }\n",
       "\n",
       "    .dataframe thead th {\n",
       "        text-align: right;\n",
       "    }\n",
       "</style>\n",
       "<table border=\"1\" class=\"dataframe\">\n",
       "  <thead>\n",
       "    <tr style=\"text-align: right;\">\n",
       "      <th></th>\n",
       "      <th>age</th>\n",
       "      <th>ethnicity</th>\n",
       "      <th>gender</th>\n",
       "      <th>img_name</th>\n",
       "      <th>pixels</th>\n",
       "    </tr>\n",
       "  </thead>\n",
       "  <tbody>\n",
       "    <tr>\n",
       "      <th>0</th>\n",
       "      <td>1</td>\n",
       "      <td>2</td>\n",
       "      <td>0</td>\n",
       "      <td>20161219203650636.jpg.chip.jpg</td>\n",
       "      <td>129 128 128 126 127 130 133 135 139 142 145 14...</td>\n",
       "    </tr>\n",
       "    <tr>\n",
       "      <th>1</th>\n",
       "      <td>1</td>\n",
       "      <td>2</td>\n",
       "      <td>0</td>\n",
       "      <td>20161219222752047.jpg.chip.jpg</td>\n",
       "      <td>164 74 111 168 169 171 175 182 184 188 193 199...</td>\n",
       "    </tr>\n",
       "    <tr>\n",
       "      <th>2</th>\n",
       "      <td>1</td>\n",
       "      <td>2</td>\n",
       "      <td>0</td>\n",
       "      <td>20161219222832191.jpg.chip.jpg</td>\n",
       "      <td>67 70 71 70 69 67 70 79 90 103 116 132 145 155...</td>\n",
       "    </tr>\n",
       "    <tr>\n",
       "      <th>3</th>\n",
       "      <td>1</td>\n",
       "      <td>2</td>\n",
       "      <td>0</td>\n",
       "      <td>20161220144911423.jpg.chip.jpg</td>\n",
       "      <td>193 197 198 200 199 200 202 203 204 205 208 21...</td>\n",
       "    </tr>\n",
       "    <tr>\n",
       "      <th>4</th>\n",
       "      <td>1</td>\n",
       "      <td>2</td>\n",
       "      <td>0</td>\n",
       "      <td>20161220144914327.jpg.chip.jpg</td>\n",
       "      <td>202 205 209 210 209 209 210 211 212 214 218 21...</td>\n",
       "    </tr>\n",
       "  </tbody>\n",
       "</table>\n",
       "</div>"
      ],
      "text/plain": [
       "   age  ethnicity  gender                        img_name  \\\n",
       "0    1          2       0  20161219203650636.jpg.chip.jpg   \n",
       "1    1          2       0  20161219222752047.jpg.chip.jpg   \n",
       "2    1          2       0  20161219222832191.jpg.chip.jpg   \n",
       "3    1          2       0  20161220144911423.jpg.chip.jpg   \n",
       "4    1          2       0  20161220144914327.jpg.chip.jpg   \n",
       "\n",
       "                                              pixels  \n",
       "0  129 128 128 126 127 130 133 135 139 142 145 14...  \n",
       "1  164 74 111 168 169 171 175 182 184 188 193 199...  \n",
       "2  67 70 71 70 69 67 70 79 90 103 116 132 145 155...  \n",
       "3  193 197 198 200 199 200 202 203 204 205 208 21...  \n",
       "4  202 205 209 210 209 209 210 211 212 214 218 21...  "
      ]
     },
     "execution_count": 7,
     "metadata": {},
     "output_type": "execute_result"
    }
   ],
   "source": [
    "age_gender_data.head()"
   ]
  },
  {
   "cell_type": "code",
   "execution_count": 8,
   "metadata": {},
   "outputs": [
    {
     "data": {
      "text/plain": [
       "<AxesSubplot:xlabel='age', ylabel='count'>"
      ]
     },
     "execution_count": 8,
     "metadata": {},
     "output_type": "execute_result"
    },
    {
     "data": {
      "image/png": "[encoded data removed]",
      "text/plain": [
       "<Figure size 432x288 with 1 Axes>"
      ]
     },
     "metadata": {
      "needs_background": "light"
     },
     "output_type": "display_data"
    }
   ],
   "source": [
    "sns.countplot(x='age', data=age_gender_data) #age distribution"
   ]
  },
  {
   "cell_type": "code",
   "execution_count": 9,
   "metadata": {},
   "outputs": [
    {
     "data": {
      "text/plain": [
       "<AxesSubplot:xlabel='gender', ylabel='count'>"
      ]
     },
     "execution_count": 9,
     "metadata": {},
     "output_type": "execute_result"
    },
    {
     "data": {
      "image/png": "[encoded data removed]",
      "text/plain": [
       "<Figure size 432x288 with 1 Axes>"
      ]
     },
     "metadata": {
      "needs_background": "light"
     },
     "output_type": "display_data"
    }
   ],
   "source": [
    "sns.countplot(x='gender', data=age_gender_data) #gender distribution"
   ]
  },
  {
   "cell_type": "code",
   "execution_count": 10,
   "metadata": {},
   "outputs": [
    {
     "data": {
      "text/plain": [
       "<AxesSubplot:xlabel='age', ylabel='count'>"
      ]
     },
     "execution_count": 10,
     "metadata": {},
     "output_type": "execute_result"
    },
    {
     "data": {
      "image/png": "[encoded data removed]",
      "text/plain": [
       "<Figure size 432x288 with 1 Axes>"
      ]
     },
     "metadata": {
      "needs_background": "light"
     },
     "output_type": "display_data"
    }
   ],
   "source": [
    "# Data Peprocessing\n",
    "# Select only person who has age more than 18 \n",
    "age_gender_data = age_gender_data[age_gender_data['age'] >= 18]\n",
    "sns.countplot(x='age', data=age_gender_data) #age distribution"
   ]
  },
  {
   "cell_type": "code",
   "execution_count": 11,
   "metadata": {},
   "outputs": [
    {
     "data": {
      "text/html": [
       "<div>\n",
       "<style scoped>\n",
       "    .dataframe tbody tr th:only-of-type {\n",
       "        vertical-align: middle;\n",
       "    }\n",
       "\n",
       "    .dataframe tbody tr th {\n",
       "        vertical-align: top;\n",
       "    }\n",
       "\n",
       "    .dataframe thead th {\n",
       "        text-align: right;\n",
       "    }\n",
       "</style>\n",
       "<table border=\"1\" class=\"dataframe\">\n",
       "  <thead>\n",
       "    <tr style=\"text-align: right;\">\n",
       "      <th></th>\n",
       "      <th>age</th>\n",
       "      <th>ethnicity</th>\n",
       "      <th>gender</th>\n",
       "      <th>img_name</th>\n",
       "      <th>pixels</th>\n",
       "    </tr>\n",
       "  </thead>\n",
       "  <tbody>\n",
       "    <tr>\n",
       "      <th>0</th>\n",
       "      <td>100</td>\n",
       "      <td>0</td>\n",
       "      <td>0</td>\n",
       "      <td>20170112213500903.jpg.chip.jpg</td>\n",
       "      <td>203 185 139 163 176 184 186 175 175 156 159 13...</td>\n",
       "    </tr>\n",
       "    <tr>\n",
       "      <th>1</th>\n",
       "      <td>100</td>\n",
       "      <td>0</td>\n",
       "      <td>0</td>\n",
       "      <td>20170112215240346.jpg.chip.jpg</td>\n",
       "      <td>125 126 115 78 66 66 77 85 95 102 117 138 138 ...</td>\n",
       "    </tr>\n",
       "    <tr>\n",
       "      <th>2</th>\n",
       "      <td>100</td>\n",
       "      <td>0</td>\n",
       "      <td>1</td>\n",
       "      <td>20170110183726390.jpg.chip.jpg</td>\n",
       "      <td>235 164 113 144 121 201 243 237 234 221 233 23...</td>\n",
       "    </tr>\n",
       "    <tr>\n",
       "      <th>3</th>\n",
       "      <td>100</td>\n",
       "      <td>0</td>\n",
       "      <td>1</td>\n",
       "      <td>20170112213001988.jpg.chip.jpg</td>\n",
       "      <td>82 82 82 82 82 82 84 86 90 85 104 105 102 154 ...</td>\n",
       "    </tr>\n",
       "    <tr>\n",
       "      <th>4</th>\n",
       "      <td>100</td>\n",
       "      <td>0</td>\n",
       "      <td>1</td>\n",
       "      <td>20170112213303693.jpg.chip.jpg</td>\n",
       "      <td>70 72 94 149 154 166 175 169 172 161 176 187 2...</td>\n",
       "    </tr>\n",
       "    <tr>\n",
       "      <th>...</th>\n",
       "      <td>...</td>\n",
       "      <td>...</td>\n",
       "      <td>...</td>\n",
       "      <td>...</td>\n",
       "      <td>...</td>\n",
       "    </tr>\n",
       "    <tr>\n",
       "      <th>19467</th>\n",
       "      <td>99</td>\n",
       "      <td>0</td>\n",
       "      <td>1</td>\n",
       "      <td>20170120221920654.jpg.chip.jpg</td>\n",
       "      <td>127 100 94 81 77 77 74 99 102 98 128 145 160 1...</td>\n",
       "    </tr>\n",
       "    <tr>\n",
       "      <th>19468</th>\n",
       "      <td>99</td>\n",
       "      <td>1</td>\n",
       "      <td>1</td>\n",
       "      <td>20170120134639935.jpg.chip.jpg</td>\n",
       "      <td>23 28 32 35 42 47 68 85 98 103 113 117 130 129...</td>\n",
       "    </tr>\n",
       "    <tr>\n",
       "      <th>19469</th>\n",
       "      <td>99</td>\n",
       "      <td>2</td>\n",
       "      <td>1</td>\n",
       "      <td>20170110182418864.jpg.chip.jpg</td>\n",
       "      <td>59 50 37 40 34 19 30 101 156 170 177 184 187 1...</td>\n",
       "    </tr>\n",
       "    <tr>\n",
       "      <th>19470</th>\n",
       "      <td>99</td>\n",
       "      <td>2</td>\n",
       "      <td>1</td>\n",
       "      <td>20170117195405372.jpg.chip.jpg</td>\n",
       "      <td>45 108 120 156 206 197 140 180 191 199 204 207...</td>\n",
       "    </tr>\n",
       "    <tr>\n",
       "      <th>19471</th>\n",
       "      <td>99</td>\n",
       "      <td>0</td>\n",
       "      <td>1</td>\n",
       "      <td>20170110182052119.jpg.chip.jpg</td>\n",
       "      <td>156 161 160 165 170 173 166 177 183 191 187 18...</td>\n",
       "    </tr>\n",
       "  </tbody>\n",
       "</table>\n",
       "<p>19472 rows × 5 columns</p>\n",
       "</div>"
      ],
      "text/plain": [
       "       age  ethnicity  gender                        img_name  \\\n",
       "0      100          0       0  20170112213500903.jpg.chip.jpg   \n",
       "1      100          0       0  20170112215240346.jpg.chip.jpg   \n",
       "2      100          0       1  20170110183726390.jpg.chip.jpg   \n",
       "3      100          0       1  20170112213001988.jpg.chip.jpg   \n",
       "4      100          0       1  20170112213303693.jpg.chip.jpg   \n",
       "...    ...        ...     ...                             ...   \n",
       "19467   99          0       1  20170120221920654.jpg.chip.jpg   \n",
       "19468   99          1       1  20170120134639935.jpg.chip.jpg   \n",
       "19469   99          2       1  20170110182418864.jpg.chip.jpg   \n",
       "19470   99          2       1  20170117195405372.jpg.chip.jpg   \n",
       "19471   99          0       1  20170110182052119.jpg.chip.jpg   \n",
       "\n",
       "                                                  pixels  \n",
       "0      203 185 139 163 176 184 186 175 175 156 159 13...  \n",
       "1      125 126 115 78 66 66 77 85 95 102 117 138 138 ...  \n",
       "2      235 164 113 144 121 201 243 237 234 221 233 23...  \n",
       "3      82 82 82 82 82 82 84 86 90 85 104 105 102 154 ...  \n",
       "4      70 72 94 149 154 166 175 169 172 161 176 187 2...  \n",
       "...                                                  ...  \n",
       "19467  127 100 94 81 77 77 74 99 102 98 128 145 160 1...  \n",
       "19468  23 28 32 35 42 47 68 85 98 103 113 117 130 129...  \n",
       "19469  59 50 37 40 34 19 30 101 156 170 177 184 187 1...  \n",
       "19470  45 108 120 156 206 197 140 180 191 199 204 207...  \n",
       "19471  156 161 160 165 170 173 166 177 183 191 187 18...  \n",
       "\n",
       "[19472 rows x 5 columns]"
      ]
     },
     "execution_count": 11,
     "metadata": {},
     "output_type": "execute_result"
    }
   ],
   "source": [
    "age_gender_data.reset_index(drop=True, inplace=True)\n",
    "age_gender_data"
   ]
  },
  {
   "cell_type": "code",
   "execution_count": 12,
   "metadata": {},
   "outputs": [
    {
     "data": {
      "text/plain": [
       "age          0\n",
       "ethnicity    0\n",
       "gender       0\n",
       "img_name     0\n",
       "pixels       0\n",
       "dtype: int64"
      ]
     },
     "execution_count": 12,
     "metadata": {},
     "output_type": "execute_result"
    }
   ],
   "source": [
    "age_gender_data.isnull().sum() # Check null data"
   ]
  },
  {
   "cell_type": "code",
   "execution_count": 13,
   "metadata": {},
   "outputs": [
    {
     "name": "stdout",
     "output_type": "stream",
     "text": [
      "Pixels: 2304\n",
      "Width: 48, Height: 48\n"
     ]
    }
   ],
   "source": [
    "# Input image configuration\n",
    "num_pixels = len(age_gender_data['pixels'][0].split(' '))\n",
    "dimension = int(np.sqrt(num_pixels))\n",
    "img_width = dimension\n",
    "img_height = dimension\n",
    "\n",
    "print(\"Pixels: {}\".format(num_pixels))\n",
    "print(\"Width: {0}, Height: {1}\".format(img_width, img_height))"
   ]
  },
  {
   "cell_type": "code",
   "execution_count": 15,
   "metadata": {},
   "outputs": [
    {
     "name": "stdout",
     "output_type": "stream",
     "text": [
      "Target: shape = (16593, 48, 48, 1), type = <class 'numpy.ndarray'>\n",
      "Current: shape = (13630, 48, 48, 1), type = <class 'numpy.ndarray'>\n"
     ]
    }
   ],
   "source": [
    "# Splitting dataset into X and y\n",
    "X_img = age_gender_data.iloc[:,4].copy()\n",
    "y_age = age_gender_data.iloc[:,0].copy()\n",
    "y_ethnicity = age_gender_data.iloc[:,1].copy()\n",
    "y_gender = age_gender_data.iloc[:,2].copy()\n",
    "\n",
    "# splitting the data into train and te sets.\n",
    "X_train, X_te, y_train, y_te = train_test_split(X_img,y_gender,test_size=0.3,random_state=11)\n",
    "# splitting 'te' set into validation and test set\n",
    "X_val, X_test, y_val, y_test = train_test_split(X_te,y_te,test_size=0.15,random_state=11)\n",
    "\n",
    "def str_to_npArr(x):\n",
    "    '''\n",
    "    Function to convert pixel data (string) into numpy_array of pixels\n",
    "    '''\n",
    "    x = x.reset_index(drop=True)\n",
    "    x = x.apply(lambda x: np.array(x.split(), dtype=\"float32\")) #converting data to numpy array\n",
    "    return np.array([x[i].reshape(img_width, img_height, 1) for i in range(x.shape[0])])\n",
    "\n",
    "# Converting the string of pixels into image array for each of train, val and test set and normalization\n",
    "X_train = str_to_npArr(X_train)\n",
    "X_test = str_to_npArr(X_test)\n",
    "X_val = str_to_npArr(X_val)\n",
    "\n",
    "print(\"Target: shape = (16593, 48, 48, 1), type = <class 'numpy.ndarray'>\")\n",
    "print(\"Current: shape = {}, type = {}\".format(X_train.shape, type(X_train)))"
   ]
  },
  {
   "cell_type": "code",
   "execution_count": 16,
   "metadata": {
    "scrolled": true
   },
   "outputs": [
    {
     "name": "stdout",
     "output_type": "stream",
     "text": [
      "                                                  pixels\n",
      "0      203 185 139 163 176 184 186 175 175 156 159 13...\n",
      "1      125 126 115 78 66 66 77 85 95 102 117 138 138 ...\n",
      "2      235 164 113 144 121 201 243 237 234 221 233 23...\n",
      "3      82 82 82 82 82 82 84 86 90 85 104 105 102 154 ...\n",
      "4      70 72 94 149 154 166 175 169 172 161 176 187 2...\n",
      "...                                                  ...\n",
      "19467  127 100 94 81 77 77 74 99 102 98 128 145 160 1...\n",
      "19468  23 28 32 35 42 47 68 85 98 103 113 117 130 129...\n",
      "19469  59 50 37 40 34 19 30 101 156 170 177 184 187 1...\n",
      "19470  45 108 120 156 206 197 140 180 191 199 204 207...\n",
      "19471  156 161 160 165 170 173 166 177 183 191 187 18...\n",
      "\n",
      "[19472 rows x 1 columns]\n",
      "--------------------------------------------------------\n",
      "       gender  ethnicity  age\n",
      "0           0          0  100\n",
      "1           0          0  100\n",
      "2           1          0  100\n",
      "3           1          0  100\n",
      "4           1          0  100\n",
      "...       ...        ...  ...\n",
      "19467       1          0   99\n",
      "19468       1          1   99\n",
      "19469       1          2   99\n",
      "19470       1          2   99\n",
      "19471       1          0   99\n",
      "\n",
      "[19472 rows x 3 columns]\n"
     ]
    }
   ],
   "source": [
    "target_columns = ['gender', 'ethnicity', 'age']\n",
    "\n",
    "age_gender_data_preprocess = age_gender_data.drop('img_name', axis=1)\n",
    "y = age_gender_data_preprocess[target_columns]\n",
    "X = age_gender_data_preprocess.drop(target_columns, axis=1)\n",
    "\n",
    "print(X)\n",
    "print(\"--------------------------------------------------------\")\n",
    "print(y)"
   ]
  },
  {
   "cell_type": "code",
   "execution_count": 26,
   "metadata": {},
   "outputs": [
    {
     "ename": "ValueError",
     "evalue": "invalid literal for int() with base 10: 'pixels'",
     "output_type": "error",
     "traceback": [
      "\u001b[1;31m---------------------------------------------------------------------------\u001b[0m",
      "\u001b[1;31mValueError\u001b[0m                                Traceback (most recent call last)",
      "\u001b[1;32m<ipython-input-26-ec8d0d736610>\u001b[0m in \u001b[0;36m<module>\u001b[1;34m\u001b[0m\n\u001b[1;32m----> 1\u001b[1;33m \u001b[0mX\u001b[0m \u001b[1;33m=\u001b[0m \u001b[0mX\u001b[0m\u001b[1;33m[\u001b[0m\u001b[0mint\u001b[0m\u001b[1;33m(\u001b[0m\u001b[1;34m'pixels'\u001b[0m\u001b[1;33m)\u001b[0m\u001b[1;33m]\u001b[0m\u001b[1;33m.\u001b[0m\u001b[0mapply\u001b[0m\u001b[1;33m(\u001b[0m\u001b[1;32mlambda\u001b[0m \u001b[0mx\u001b[0m\u001b[1;33m:\u001b[0m \u001b[0mnp\u001b[0m\u001b[1;33m.\u001b[0m\u001b[0marray\u001b[0m\u001b[1;33m(\u001b[0m\u001b[0mx\u001b[0m\u001b[1;33m.\u001b[0m\u001b[0msplit\u001b[0m\u001b[1;33m(\u001b[0m\u001b[1;33m)\u001b[0m\u001b[1;33m,\u001b[0m \u001b[0mdtype\u001b[0m\u001b[1;33m=\u001b[0m\u001b[1;34m\"float32\"\u001b[0m\u001b[1;33m)\u001b[0m\u001b[1;33m)\u001b[0m \u001b[1;31m#converting data to numpy array\u001b[0m\u001b[1;33m\u001b[0m\u001b[1;33m\u001b[0m\u001b[0m\n\u001b[0m\u001b[0;32m      2\u001b[0m \u001b[0mX\u001b[0m \u001b[1;33m=\u001b[0m \u001b[0mnp\u001b[0m\u001b[1;33m.\u001b[0m\u001b[0marray\u001b[0m\u001b[1;33m(\u001b[0m\u001b[0mX\u001b[0m\u001b[1;33m)\u001b[0m\u001b[1;33m/\u001b[0m\u001b[1;36m255.0\u001b[0m \u001b[1;31m# normalization\u001b[0m\u001b[1;33m\u001b[0m\u001b[1;33m\u001b[0m\u001b[0m\n\u001b[0;32m      3\u001b[0m \u001b[0mX\u001b[0m \u001b[1;33m=\u001b[0m \u001b[0mnp\u001b[0m\u001b[1;33m.\u001b[0m\u001b[0marray\u001b[0m\u001b[1;33m(\u001b[0m\u001b[1;33m[\u001b[0m \u001b[0mX\u001b[0m\u001b[1;33m[\u001b[0m\u001b[0mi\u001b[0m\u001b[1;33m]\u001b[0m\u001b[1;33m.\u001b[0m\u001b[0mreshape\u001b[0m\u001b[1;33m(\u001b[0m\u001b[1;36m48\u001b[0m\u001b[1;33m,\u001b[0m\u001b[1;36m48\u001b[0m\u001b[1;33m,\u001b[0m\u001b[1;36m1\u001b[0m\u001b[1;33m)\u001b[0m \u001b[1;32mfor\u001b[0m \u001b[0mi\u001b[0m \u001b[1;32min\u001b[0m \u001b[0mrange\u001b[0m\u001b[1;33m(\u001b[0m\u001b[0mX\u001b[0m\u001b[1;33m.\u001b[0m\u001b[0mshape\u001b[0m\u001b[1;33m[\u001b[0m\u001b[1;36m0\u001b[0m\u001b[1;33m]\u001b[0m\u001b[1;33m)\u001b[0m \u001b[1;33m]\u001b[0m\u001b[1;33m)\u001b[0m\u001b[1;33m\u001b[0m\u001b[1;33m\u001b[0m\u001b[0m\n\u001b[0;32m      4\u001b[0m \u001b[1;33m\u001b[0m\u001b[0m\n\u001b[0;32m      5\u001b[0m \u001b[0mprint\u001b[0m\u001b[1;33m(\u001b[0m\u001b[1;34m\"Target: X Shape: {}\"\u001b[0m\u001b[1;33m.\u001b[0m\u001b[0mformat\u001b[0m\u001b[1;33m(\u001b[0m\u001b[0mX\u001b[0m\u001b[1;33m.\u001b[0m\u001b[0mshape\u001b[0m\u001b[1;33m)\u001b[0m\u001b[1;33m)\u001b[0m\u001b[1;33m\u001b[0m\u001b[1;33m\u001b[0m\u001b[0m\n",
      "\u001b[1;31mValueError\u001b[0m: invalid literal for int() with base 10: 'pixels'"
     ]
    }
   ],
   "source": [
    "X = X[int('pixels')].apply(lambda x: np.array(x.split(), dtype=\"float32\")) #converting data to numpy array\n",
    "X = np.array(X)/255.0 # normalization\n",
    "X = np.array([ X[i].reshape(48,48,1) for i in range(X.shape[0]) ])\n",
    "\n",
    "print(\"Target: X Shape: {}\".format(X.shape))\n",
    "print(\"Current: X Shape: {}\".format(X.shape))"
   ]
  },
  {
   "cell_type": "code",
   "execution_count": null,
   "metadata": {},
   "outputs": [],
   "source": [
    "y_gender = np.array(y['gender'])\n",
    "y_ethnicity = np.array(y['ethnicity'])\n",
    "y_age = np.array(y['age'])"
   ]
  },
  {
   "cell_type": "code",
   "execution_count": null,
   "metadata": {},
   "outputs": [],
   "source": [
    "# Data Visulaization\n",
    "rows = 20 # rows in subplots\n",
    "cols = 5 # columns in subplots\n",
    "samp = random.sample(range(X.shape[0]),rows*cols) #selecting 100 random samples\n",
    "x_samp = X[samp,:,:,:]\n",
    "y_samp_gender = y_gender[samp]\n",
    "y_samp_age = y_age[samp]\n",
    "    \n",
    "fig,ax = plt.subplots(rows,cols,figsize=(16,60))\n",
    "r = 0\n",
    "c = 0   \n",
    "\n",
    "for i in range(rows*cols):\n",
    "    aa = x_samp[i,:,:,:].reshape(48,48)\n",
    "    ax[r,c].axis(\"off\")\n",
    "    ax[r,c].imshow(aa,cmap=\"gray\")\n",
    "    ax[r,c].set_title(f\"Gender: {'Female' if y_samp_gender[i]==1 else 'Male'}, Age: {y_samp_age[i]}\")\n",
    "    c+=1\n",
    "    if c == cols:\n",
    "        c=0\n",
    "        r+=1\n",
    "        \n",
    "plt.show()"
   ]
  },
  {
   "cell_type": "code",
   "execution_count": null,
   "metadata": {},
   "outputs": [],
   "source": [
    "# Building the Model\n",
    "# Model configuration\n",
    "batch_size = 32\n",
    "img_width, img_height, img_num_channels = 48, 48, 1\n",
    "loss_function = sparse_categorical_crossentropy\n",
    "no_classes = 2\n",
    "no_epochs = 50\n",
    "optimizer = Adam()\n",
    "verbosity = 1\n",
    "num_folds = 10\n",
    "activation='softmax'\n",
    "\n",
    "# Determine shape of the data\n",
    "input_shape = (img_width, img_height, img_num_channels)\n",
    "input_shape"
   ]
  },
  {
   "cell_type": "code",
   "execution_count": null,
   "metadata": {},
   "outputs": [],
   "source": [
    "# Set Seed\n",
    "random.seed(11)\n",
    "set_seed(11)\n",
    "np.random.seed(11)\n",
    "\n",
    "# Define the K-fold Cross Validator\n",
    "kfold = KFold(n_splits=num_folds, shuffle=True)"
   ]
  },
  {
   "cell_type": "code",
   "execution_count": null,
   "metadata": {},
   "outputs": [],
   "source": [
    "# Define per-fold score containers\n",
    "acc_per_fold = []\n",
    "loss_per_fold = []\n",
    "\n",
    "# K-fold Cross Validation model evaluation\n",
    "fold_no = 1\n",
    "for train, test in kfold.split(X, y_gender):\n",
    "    \n",
    "  # Set Seed\n",
    "  random.seed(11)\n",
    "  set_seed(11)\n",
    "  np.random.seed(11)\n",
    "  \n",
    "  # Define the model architecture\n",
    "  model = Sequential()\n",
    "  \n",
    "  model.add(Conv2D(64, kernel_size=(3,3), input_shape=input_shape, activation='relu'))\n",
    "  model.add(MaxPooling2D(pool_size=(2,2)))\n",
    "  model.add(BatchNormalization())\n",
    " model.add(Conv2D(256, kernel_size=(3,3), activation='relu', padding='same'))\n",
    "  model.add(Conv2D(256, kernel_size=(3,3), activation='relu'))\n",
    "  model.add(MaxPooling2D(pool_size=(2,2)))\n",
    "  model.add(Dropout(0.3))\n",
    "  model.add(BatchNormalization())\n",
    "\n",
    "  model.add(Conv2D(512, kernel_size=(3,3), activation='relu', padding='same'))\n",
    "  model.add(MaxPooling2D(pool_size=(2,2)))\n",
    "  model.add(Dropout(0.5))\n",
    "  model.add(BatchNormalization())\n",
    "\n",
    "  model.add(Flatten())\n",
    "  model.add(Dense(128, activation='relu'))\n",
    "  model.add(Dense(128, activation='softmax'))\n",
    "\n",
    "  # Compile the model\n",
    "  model.compile(loss=loss_function,\n",
    "              optimizer=optimizer,\n",
    "              metrics=['accuracy'])\n",
    "  \n",
    "  # Generate a print\n",
    "  print('------------------------------------------------------------------------')\n",
    "  print(f'Training for fold {fold_no} ...')\n",
    "early_stop = EarlyStopping(monitor=\"val_loss\",patience=5,mode=\"min\") # Ensure the model doesn't overfit\n",
    "  \n",
    "  # Set Seed\n",
    "  random.seed(11)\n",
    "  set_seed(11)\n",
    "  np.random.seed(11)\n",
    "    \n",
    "  # Fit data to model\n",
    "  history = model.fit(train_data_gen.flow(X[train], y_gender[train], seed=11),\n",
    "            callbacks=early_stop,\n",
    "            batch_size=batch_size,\n",
    "            epochs=no_epochs,\n",
    "            verbose=verbosity,\n",
    "            validation_data=train_data_gen.flow(X[test], y_gender[test],\n",
    "                                   seed=11))\n",
    "  \n",
    "  # Generate generalization metrics\n",
    "  fig = px.line(\n",
    "  history.history, y=['loss', 'val_loss'],\n",
    "  labels={'index': 'epoch', 'value': 'loss'}, \n",
    "  title='Training History')\n",
    "  fig.show()\n",
    "    \n",
    "  scores = model.evaluate(train_data_gen.flow(X[test], y_gender[test],\n",
    "                                   seed=11), verbose=0)\n",
    "  print(f'Score for fold {fold_no}: {model.metrics_names[0]} of {scores[0]}; {model.metrics_names[1]} of {scores[1]*100}%')\n",
    "  acc_per_fold.append(scores[1] * 100)\n",
    "  loss_per_fold.append(scores[0])\n",
    "  \n",
    "  # Increase fold number\n",
    "  fold_no = fold_no + 1"
   ]
  },
  {
   "cell_type": "code",
   "execution_count": null,
   "metadata": {},
   "outputs": [],
   "source": [
    "# == Provide average scores ==\n",
    "print('------------------------------------------------------------------------')\n",
    "print('Score per fold')\n",
    "for i in range(0, len(acc_per_fold)):\n",
    "  print('------------------------------------------------------------------------')\n",
    "  print(f'> Fold {i+1} - Loss: {loss_per_fold[i]} - Accuracy: {acc_per_fold[i]}%')\n",
    "print('------------------------------------------------------------------------')\n",
    "print('Average scores for all folds:')\n",
    "print(f'> Accuracy: {np.mean(acc_per_fold)} (+- {np.std(acc_per_fold)})')\n",
    "print(f'> Loss: {np.mean(loss_per_fold)}')\n",
    "print('------------------------------------------------------------------------')"
   ]
  },
  {
   "cell_type": "code",
   "execution_count": null,
   "metadata": {},
   "outputs": [],
   "source": [
    "# Set Seed\n",
    "random.seed(11)\n",
    "set_seed(11)\n",
    "np.random.seed(11)\n",
    "  \n",
    "# Define the model architecture\n",
    "model = Sequential()\n",
    "  \n",
    "model.add(Conv2D(64, kernel_size=(3,3), input_shape=input_shape, activation='relu'))\n",
    "model.add(MaxPooling2D(pool_size=(2,2)))\n",
    "model.add(BatchNormalization())\n",
    "\n",
    "model.add(Conv2D(128, kernel_size=(3,3), activation='relu', padding='same'))\n",
    "model.add(Conv2D(128, kernel_size=(3,3), activation='relu'))\n",
    "model.add(MaxPooling2D(pool_size=(2,2)))\n",
    "model.add(Dropout(0.3))\n",
    "model.add(BatchNormalization())\n",
    "\n",
    "model.add(Conv2D(256, kernel_size=(3,3), activation='relu', padding='same'))\n",
    "model.add(Conv2D(256, kernel_size=(3,3), activation='relu'))\n",
    "model.add(MaxPooling2D(pool_size=(2,2)))\n",
    "model.add(Dropout(0.3))\n",
    "model.add(BatchNormalization())\n",
    "\n",
    "\n",
    "model.add(Conv2D(512, kernel_size=(3,3), activation='relu', padding='same'))\n",
    "model.add(MaxPooling2D(pool_size=(2,2)))\n",
    "model.add(Dropout(0.5))\n",
    "model.add(BatchNormalization())\n",
    "\n",
    "model.add(Flatten())\n",
    "model.add(Dense(128, activation='relu'))\n",
    "model.add(Dense(128, activation='softmax'))\n",
    "\n",
    "# Compile the model\n",
    "model.compile(loss=loss_function,\n",
    "              optimizer=optimizer,\n",
    "              metrics=['accuracy'])"
   ]
  },
  {
   "cell_type": "code",
   "execution_count": null,
   "metadata": {},
   "outputs": [],
   "source": [
    "Final_train = np.append(X_train, X_val, axis=0)\n",
    "Final_val = np.append(y_train, y_val, axis=0)\n",
    "final_training_data = train_data_gen.flow(Final_train, Final_val,\n",
    "                                   seed=11)\n",
    "\n",
    "random.seed(11)\n",
    "set_seed(11)\n",
    "np.random.seed(11)\n",
    "final_model_history = model.fit(train_data_gen.flow(X, y_gender, seed=11),batch_size=32,epochs=20, validation_data=val_data)"
   ]
  },
  {
   "cell_type": "code",
   "execution_count": null,
   "metadata": {},
   "outputs": [],
   "source": [
    "# Generate generalization metrics\n",
    "fig = px.line(\n",
    "final_model_history.history, y=['loss', 'val_loss'],\n",
    "labels={'index': 'epoch', 'value': 'val_loss'}, \n",
    "title='Training History')\n",
    "fig.show()\n",
    "\n",
    "\n",
    "# Generate generalization metrics\n",
    "fig = px.line(\n",
    "final_model_history.history, y=['accuracy', 'val_accuracy'],\n",
    "labels={'index': 'epoch', 'value': 'accuracy'}, \n",
    "title='Training History')\n",
    "fig.show()"
   ]
  },
  {
   "cell_type": "code",
   "execution_count": null,
   "metadata": {},
   "outputs": [],
   "source": [
    "pwd"
   ]
  },
  {
   "cell_type": "code",
   "execution_count": null,
   "metadata": {},
   "outputs": [],
   "source": [
    "model.save(\"backup\")"
   ]
  },
  {
   "cell_type": "code",
   "execution_count": null,
   "metadata": {},
   "outputs": [],
   "source": [
    "# Metrics\n",
    "model.evaluate(test_data)"
   ]
  },
  {
   "cell_type": "code",
   "execution_count": null,
   "metadata": {},
   "outputs": [],
   "source": [
    "y_pred = model.predict_classes(test_data)\n",
    "print(classification_report(y_test, y_pred))"
   ]
  },
  {
   "cell_type": "code",
   "execution_count": null,
   "metadata": {},
   "outputs": [],
   "source": [
    "# Confusion matrix\n",
    "cm = confusion_matrix(y_test, y_pred)\n",
    "sns.heatmap(cm, cmap='Greens', cbar=False, annot=True, fmt='d');"
   ]
  },
  {
   "cell_type": "code",
   "execution_count": null,
   "metadata": {},
   "outputs": [],
   "source": [
    "# Error Analysis\n",
    "error_index = (y_test != y_pred)#finding error indices\n",
    "y_test_error = y_test[error_index]\n",
    "X_test_error = X_test[error_index]\n",
    "prediction_error = y_pred[error_index]"
   ]
  },
  {
   "cell_type": "code",
   "execution_count": null,
   "metadata": {},
   "outputs": [],
   "source": [
    "rows=int(np.floor(sum(error_index)/3)) #rows in subplots\n",
    "cols=3 #columns in subplots\n",
    "x_samp = X_test_error\n",
    "y_samp = y_test_error\n",
    "\n",
    "fig,ax = plt.subplots(rows,cols,figsize=(15,50))\n",
    "r = 0\n",
    "c = 0\n",
    "for i in range((rows*cols)-1):\n",
    "    aa = x_samp[i].reshape(48,48)\n",
    "    ax[r,c].axis(\"off\")\n",
    "    ax[r,c].imshow(aa,cmap=\"gray\")\n",
    "    actual_lab = \"Female\" if y_samp.iloc[i]==1 else \"Male\"\n",
    "    pred_lab = \"Female\" if int(prediction_error[i])==1 else \"Male\"\n",
    "    ax[r,c].set_title(f'Actual: {actual_lab}\\nPred: {pred_lab}')\n",
    "    c+=1\n",
    "    if c == cols:\n",
    "        c=0\n",
    "        r+=1\n",
    "plt.show()"
   ]
  },
  {
   "cell_type": "code",
   "execution_count": null,
   "metadata": {},
   "outputs": [],
   "source": [
    "import cv2\n",
    "img = cv2.imread('../input/testset/mind-long.jpg',0)\n",
    "plt.imshow(img, cmap=\"gray\")\n",
    "img = cv2.resize(img, (48,48))\n",
    "img = np.reshape(img,[1,48,48,1])\n",
    "img_pixels = img.astype(\"float32\") / 255.0\n",
    "classes = model.predict_classes(img_pixels)\n",
    "\n",
    "mapper=['male','female']\n",
    "print(mapper[classes[0]])"
   ]
  }
 ],
 "metadata": {
  "kernelspec": {
   "display_name": "Python 3",
   "language": "python",
   "name": "python3"
  },
  "language_info": {
   "codemirror_mode": {
    "name": "ipython",
    "version": 3
   },
   "file_extension": ".py",
   "mimetype": "text/x-python",
   "name": "python",
   "nbconvert_exporter": "python",
   "pygments_lexer": "ipython3",
   "version": "3.8.5"
  }
 },
 "nbformat": 4,
 "nbformat_minor": 4
}
