{
 "cells": [
  {
   "cell_type": "code",
   "execution_count": 1,
   "metadata": {},
   "outputs": [],
   "source": [
    "import tensorflow as tf\n",
    "from tensorflow import keras\n",
    "from tensorflow.keras import layers"
   ]
  },
  {
   "cell_type": "code",
   "execution_count": 3,
   "metadata": {},
   "outputs": [
    {
     "name": "stderr",
     "output_type": "stream",
     "text": [
      "  % Total    % Received % Xferd  Average Speed   Time    Time     Time  Current\n",
      "                                 Dload  Upload   Total   Spent    Left  Speed\n",
      "\n",
      "  0     0    0     0    0     0      0      0 --:--:-- --:--:-- --:--:--     0\n",
      "  1  786M    1 14.8M    0     0  15.5M      0  0:00:50 --:--:--  0:00:50 15.6M\n",
      "  6  786M    6 47.9M    0     0  24.4M      0  0:00:32  0:00:01  0:00:31 24.4M\n",
      "  9  786M    9 77.0M    0     0  26.0M      0  0:00:30  0:00:02  0:00:28 26.0M\n",
      " 13  786M   13  105M    0     0  26.7M      0  0:00:29  0:00:03  0:00:26 26.7M\n",
      " 16  786M   16  133M    0     0  26.9M      0  0:00:29  0:00:04  0:00:25 26.9M\n",
      " 20  786M   20  158M    0     0  26.5M      0  0:00:29  0:00:05  0:00:24 28.6M\n",
      " 23  786M   23  184M    0     0  26.4M      0  0:00:29  0:00:06  0:00:23 27.2M\n",
      " 26  786M   26  208M    0     0  26.1M      0  0:00:30  0:00:07  0:00:23 26.2M\n",
      " 29  786M   29  232M    0     0  25.9M      0  0:00:30  0:00:08  0:00:22 25.3M\n",
      " 32  786M   32  257M    0     0  25.8M      0  0:00:30  0:00:09  0:00:21 24.8M\n",
      " 35  786M   35  276M    0     0  25.2M      0  0:00:31  0:00:10  0:00:21 23.6M\n",
      " 37  786M   37  296M    0     0  24.7M      0  0:00:31  0:00:11  0:00:20 22.4M\n",
      " 40  786M   40  316M    0     0  24.4M      0  0:00:32  0:00:12  0:00:20 21.6M\n",
      " 43  786M   43  342M    0     0  24.5M      0  0:00:32  0:00:13  0:00:19 21.8M\n",
      " 47  786M   47  372M    0     0  24.8M      0  0:00:31  0:00:14  0:00:17 22.8M\n",
      " 51  786M   51  406M    0     0  25.4M      0  0:00:30  0:00:15  0:00:15 25.9M\n",
      " 55  786M   55  439M    0     0  25.8M      0  0:00:30  0:00:16  0:00:14 28.5M\n",
      " 60  786M   60  479M    0     0  26.7M      0  0:00:29  0:00:17  0:00:12 32.6M\n",
      " 65  786M   65  518M    0     0  27.3M      0  0:00:28  0:00:18  0:00:10 35.3M\n",
      " 71  786M   71  559M    0     0  28.0M      0  0:00:28  0:00:19  0:00:09 37.4M\n",
      " 75  786M   75  591M    0     0  28.2M      0  0:00:27  0:00:20  0:00:07 37.0M\n",
      " 78  786M   78  617M    0     0  28.1M      0  0:00:27  0:00:21  0:00:06 35.6M\n",
      " 83  786M   83  654M    0     0  28.5M      0  0:00:27  0:00:22  0:00:05 35.0M\n",
      " 88  786M   88  696M    0     0  29.0M      0  0:00:27  0:00:23  0:00:04 35.4M\n",
      " 93  786M   93  733M    0     0  29.3M      0  0:00:26  0:00:24  0:00:02 34.7M\n",
      " 97  786M   97  766M    0     0  29.5M      0  0:00:26  0:00:25  0:00:01 35.0M\n",
      "100  786M  100  786M    0     0  29.7M      0  0:00:26  0:00:26 --:--:-- 37.5M\n"
     ]
    }
   ],
   "source": [
    "# Loading dataset\n",
    "!curl -O https://download.microsoft.com/download/3/E/1/3E1C3F21-ECDB-4869-8368-6DEBA77B919F/kagglecatsanddogs_3367a.zip"
   ]
  },
  {
   "cell_type": "code",
   "execution_count": 28,
   "metadata": {},
   "outputs": [
    {
     "ename": "SyntaxError",
     "evalue": "invalid syntax (<ipython-input-28-570053d56a14>, line 4)",
     "output_type": "error",
     "traceback": [
      "\u001b[1;36m  File \u001b[1;32m\"<ipython-input-28-570053d56a14>\"\u001b[1;36m, line \u001b[1;32m4\u001b[0m\n\u001b[1;33m    chown -R user-id:group-id /Users/Juzel Lloyd/OneDrive/Surestart VAIL/Day 12 (02-19) - Image Classification and ML/kagglecatsanddogs_3367a/PetImages\u001b[0m\n\u001b[1;37m             ^\u001b[0m\n\u001b[1;31mSyntaxError\u001b[0m\u001b[1;31m:\u001b[0m invalid syntax\n"
     ]
    }
   ],
   "source": [
    "# Filter out corrupt images\n",
    "import os\n",
    "num_skipped = 0\n",
    "chown -R user-id:group-id /Users/Juzel Lloyd/OneDrive/Surestart VAIL/Day 12 (02-19) - Image Classification and ML/kagglecatsanddogs_3367a/PetImages\n",
    "for folder_name in (\"Cat\", \"Dog\"):\n",
    "    folder_path = os.path.join(\"kagglecatsanddogs_3367a\",\"PetImages\")\n",
    "    for fname in os.listdir(folder_path):\n",
    "        fpath = os.path.join(folder_path, fname)\n",
    "        try:\n",
    "            fobj = open(fpath, \"rb\")\n",
    "            is_jfif = tf.compat.as_bytes(\"JFIF\") in fobj.peek(10)\n",
    "        finally:\n",
    "            fobj.close()\n",
    "\n",
    "        if not is_jfif:\n",
    "            num_skipped += 1\n",
    "            # Delete corrupted image\n",
    "            os.remove(fpath)\n",
    "\n",
    "print(\"Deleted %d images\" % num_skipped)"
   ]
  },
  {
   "cell_type": "code",
   "execution_count": null,
   "metadata": {},
   "outputs": [],
   "source": [
    "#generate dataset\n",
    "image_size = (180, 180)\n",
    "batch_size = 32\n",
    "\n",
    "train_ds = tf.keras.preprocessing.image_dataset_from_directory(\n",
    "    \"PetImages\",\n",
    "    validation_split=0.2,\n",
    "    subset=\"training\",\n",
    "    seed=1337,\n",
    "    image_size=image_size,\n",
    "    batch_size=batch_size,\n",
    ")\n",
    "val_ds = tf.keras.preprocessing.image_dataset_from_directory(\n",
    "    \"PetImages\",\n",
    "    validation_split=0.2,\n",
    "    subset=\"validation\",\n",
    "    seed=1337,\n",
    "    image_size=image_size,\n",
    "    batch_size=batch_size,\n",
    ")"
   ]
  },
  {
   "cell_type": "code",
   "execution_count": null,
   "metadata": {},
   "outputs": [],
   "source": [
    "#visualise data\n",
    "import matplotlib.pyplot as plt\n",
    "\n",
    "plt.figure(figsize=(10, 10))\n",
    "for images, labels in train_ds.take(1):\n",
    "    for i in range(9):\n",
    "        ax = plt.subplot(3, 3, i + 1)\n",
    "        plt.imshow(images[i].numpy().astype(\"uint8\"))\n",
    "        plt.title(int(labels[i]))\n",
    "        plt.axis(\"off\")"
   ]
  },
  {
   "cell_type": "code",
   "execution_count": null,
   "metadata": {},
   "outputs": [],
   "source": [
    "# Using Image Data Augmentation\n",
    "data_augmentation = keras.Sequential(\n",
    "    [\n",
    "        layers.experimental.preprocessing.RandomFlip(\"horizontal\"),\n",
    "        layers.experimental.preprocessing.RandomRotation(0.1),\n",
    "    ]\n",
    ")"
   ]
  },
  {
   "cell_type": "code",
   "execution_count": null,
   "metadata": {},
   "outputs": [],
   "source": [
    "plt.figure(figsize=(10, 10))\n",
    "for images, _ in train_ds.take(1):\n",
    "    for i in range(9):\n",
    "        augmented_images = data_augmentation(images)\n",
    "        ax = plt.subplot(3, 3, i + 1)\n",
    "        plt.imshow(augmented_images[0].numpy().astype(\"uint8\"))\n",
    "        plt.axis(\"off\")"
   ]
  },
  {
   "cell_type": "code",
   "execution_count": null,
   "metadata": {},
   "outputs": [],
   "source": [
    "# configuring dataset\n",
    "train_ds = train_ds.prefetch(buffer_size=32)\n",
    "val_ds = val_ds.prefetch(buffer_size=32)"
   ]
  },
  {
   "cell_type": "code",
   "execution_count": null,
   "metadata": {},
   "outputs": [],
   "source": [
    "#building the model\n",
    "def make_model(input_shape, num_classes):\n",
    "    inputs = keras.Input(shape=input_shape)\n",
    "    # Image augmentation block\n",
    "    x = data_augmentation(inputs)\n",
    "\n",
    "    # Entry block\n",
    "    x = layers.experimental.preprocessing.Rescaling(1.0 / 255)(x)\n",
    "    x = layers.Conv2D(32, 3, strides=2, padding=\"same\")(x)\n",
    "    x = layers.BatchNormalization()(x)\n",
    "    x = layers.Activation(\"relu\")(x)\n",
    "\n",
    "    x = layers.Conv2D(64, 3, padding=\"same\")(x)\n",
    "    x = layers.BatchNormalization()(x)\n",
    "    x = layers.Activation(\"relu\")(x)\n",
    "\n",
    "    previous_block_activation = x  # Set aside residual\n",
    "\n",
    "    for size in [128, 256, 512, 728]:\n",
    "        x = layers.Activation(\"relu\")(x)\n",
    "        x = layers.SeparableConv2D(size, 3, padding=\"same\")(x)\n",
    "        x = layers.BatchNormalization()(x)\n",
    "\n",
    "        x = layers.Activation(\"relu\")(x)\n",
    "        x = layers.SeparableConv2D(size, 3, padding=\"same\")(x)\n",
    "        x = layers.BatchNormalization()(x)\n",
    "\n",
    "        x = layers.MaxPooling2D(3, strides=2, padding=\"same\")(x)\n",
    "\n",
    "        # Project residual\n",
    "        residual = layers.Conv2D(size, 1, strides=2, padding=\"same\")(\n",
    "            previous_block_activation\n",
    "        )\n",
    "        x = layers.add([x, residual])  # Add back residual\n",
    "        previous_block_activation = x  # Set aside next residual\n",
    "\n",
    "    x = layers.SeparableConv2D(1024, 3, padding=\"same\")(x)\n",
    "    x = layers.BatchNormalization()(x)\n",
    "    x = layers.Activation(\"relu\")(x)\n",
    "\n",
    "    x = layers.GlobalAveragePooling2D()(x)\n",
    "    if num_classes == 2:\n",
    "        activation = \"sigmoid\"\n",
    "        units = 1\n",
    "    else:\n",
    "        activation = \"softmax\"\n",
    "        units = num_classes\n",
    "\n",
    "    x = layers.Dropout(0.5)(x)\n",
    "    outputs = layers.Dense(units, activation=activation)(x)\n",
    "    return keras.Model(inputs, outputs)\n",
    "\n",
    "\n",
    "model = make_model(input_shape=image_size + (3,), num_classes=2)\n",
    "keras.utils.plot_model(model, show_shapes=True)"
   ]
  },
  {
   "cell_type": "code",
   "execution_count": null,
   "metadata": {},
   "outputs": [],
   "source": [
    "# Training the Model\n",
    "epochs = 50\n",
    "\n",
    "callbacks = [\n",
    "    keras.callbacks.ModelCheckpoint(\"save_at_{epoch}.h5\"),\n",
    "]\n",
    "model.compile(\n",
    "    optimizer=keras.optimizers.Adam(1e-3),\n",
    "    loss=\"binary_crossentropy\",\n",
    "    metrics=[\"accuracy\"],\n",
    ")\n",
    "model.fit(\n",
    "    train_ds, epochs=epochs, callbacks=callbacks, validation_data=val_ds,\n",
    ")"
   ]
  },
  {
   "cell_type": "code",
   "execution_count": null,
   "metadata": {},
   "outputs": [],
   "source": [
    "# Run Inference on New Data\n",
    "img = keras.preprocessing.image.load_img(\n",
    "    \"PetImages/Cat/6779.jpg\", target_size=image_size\n",
    ")\n",
    "img_array = keras.preprocessing.image.img_to_array(img)\n",
    "img_array = tf.expand_dims(img_array, 0)  # Create batch axis\n",
    "\n",
    "predictions = model.predict(img_array)\n",
    "score = predictions[0]\n",
    "print(\n",
    "    \"This image is %.2f percent cat and %.2f percent dog.\"\n",
    "    % (100 * (1 - score), 100 * score)\n",
    ")"
   ]
  }
 ],
 "metadata": {
  "kernelspec": {
   "display_name": "Python 3",
   "language": "python",
   "name": "python3"
  },
  "language_info": {
   "codemirror_mode": {
    "name": "ipython",
    "version": 3
   },
   "file_extension": ".py",
   "mimetype": "text/x-python",
   "name": "python",
   "nbconvert_exporter": "python",
   "pygments_lexer": "ipython3",
   "version": "3.8.5"
  }
 },
 "nbformat": 4,
 "nbformat_minor": 4
}
